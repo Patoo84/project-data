{
 "cells": [
  {
   "cell_type": "code",
   "execution_count": 15,
   "id": "e7480898",
   "metadata": {},
   "outputs": [],
   "source": [
    "import pyarrow.parquet as pq\n",
    "import gcsfs\n",
    "import dask.dataframe as dd\n"
   ]
  },
  {
   "cell_type": "code",
   "execution_count": 4,
   "id": "be96e8a1",
   "metadata": {},
   "outputs": [
    {
     "name": "stdout",
     "output_type": "stream",
     "text": [
      "Collecting gcsfs\n",
      "  Downloading gcsfs-2022.2.0-py2.py3-none-any.whl (24 kB)\n",
      "Collecting google-auth-oauthlib\n",
      "  Downloading google_auth_oauthlib-0.5.1-py2.py3-none-any.whl (19 kB)\n",
      "Collecting aiohttp<4\n",
      "  Downloading aiohttp-3.8.1-cp39-cp39-manylinux_2_5_x86_64.manylinux1_x86_64.manylinux_2_12_x86_64.manylinux2010_x86_64.whl (1.2 MB)\n",
      "\u001b[K     |████████████████████████████████| 1.2 MB 15.7 MB/s eta 0:00:01\n",
      "\u001b[?25hRequirement already satisfied: requests in /home/mohamed_romdhan.GROUPEVSC/anaconda3/lib/python3.9/site-packages (from gcsfs) (2.26.0)\n",
      "Collecting google-auth>=1.2\n",
      "  Downloading google_auth-2.6.2-py2.py3-none-any.whl (156 kB)\n",
      "\u001b[K     |████████████████████████████████| 156 kB 11.5 MB/s eta 0:00:01\n",
      "\u001b[?25hCollecting google-cloud-storage\n",
      "  Downloading google_cloud_storage-2.2.1-py2.py3-none-any.whl (107 kB)\n",
      "\u001b[K     |████████████████████████████████| 107 kB 70.2 MB/s eta 0:00:01\n",
      "\u001b[?25hCollecting fsspec==2022.02.0\n",
      "  Downloading fsspec-2022.2.0-py3-none-any.whl (134 kB)\n",
      "\u001b[K     |████████████████████████████████| 134 kB 69.1 MB/s eta 0:00:01\n",
      "\u001b[?25hRequirement already satisfied: decorator>4.1.2 in /home/mohamed_romdhan.GROUPEVSC/anaconda3/lib/python3.9/site-packages (from gcsfs) (5.1.0)\n",
      "Collecting frozenlist>=1.1.1\n",
      "  Downloading frozenlist-1.3.0-cp39-cp39-manylinux_2_5_x86_64.manylinux1_x86_64.manylinux_2_17_x86_64.manylinux2014_x86_64.whl (156 kB)\n",
      "\u001b[K     |████████████████████████████████| 156 kB 35.6 MB/s eta 0:00:01\n",
      "\u001b[?25hCollecting yarl<2.0,>=1.0\n",
      "  Downloading yarl-1.7.2-cp39-cp39-manylinux_2_5_x86_64.manylinux1_x86_64.manylinux_2_12_x86_64.manylinux2010_x86_64.whl (304 kB)\n",
      "\u001b[K     |████████████████████████████████| 304 kB 44.6 MB/s eta 0:00:01\n",
      "\u001b[?25hRequirement already satisfied: charset-normalizer<3.0,>=2.0 in /home/mohamed_romdhan.GROUPEVSC/anaconda3/lib/python3.9/site-packages (from aiohttp<4->gcsfs) (2.0.4)\n",
      "Collecting aiosignal>=1.1.2\n",
      "  Downloading aiosignal-1.2.0-py3-none-any.whl (8.2 kB)\n",
      "Collecting async-timeout<5.0,>=4.0.0a3\n",
      "  Downloading async_timeout-4.0.2-py3-none-any.whl (5.8 kB)\n",
      "Requirement already satisfied: attrs>=17.3.0 in /home/mohamed_romdhan.GROUPEVSC/anaconda3/lib/python3.9/site-packages (from aiohttp<4->gcsfs) (20.3.0)\n",
      "Collecting multidict<7.0,>=4.5\n",
      "  Downloading multidict-6.0.2-cp39-cp39-manylinux_2_17_x86_64.manylinux2014_x86_64.whl (114 kB)\n",
      "\u001b[K     |████████████████████████████████| 114 kB 60.6 MB/s eta 0:00:01\n",
      "\u001b[?25hCollecting rsa<5,>=3.1.4\n",
      "  Downloading rsa-4.8-py3-none-any.whl (39 kB)\n",
      "Requirement already satisfied: six>=1.9.0 in /home/mohamed_romdhan.GROUPEVSC/anaconda3/lib/python3.9/site-packages (from google-auth>=1.2->gcsfs) (1.16.0)\n",
      "Collecting cachetools<6.0,>=2.0.0\n",
      "  Downloading cachetools-5.0.0-py3-none-any.whl (9.1 kB)\n",
      "Collecting pyasn1-modules>=0.2.1\n",
      "  Downloading pyasn1_modules-0.2.8-py2.py3-none-any.whl (155 kB)\n",
      "\u001b[K     |████████████████████████████████| 155 kB 65.7 MB/s eta 0:00:01\n",
      "\u001b[?25hCollecting pyasn1<0.5.0,>=0.4.6\n",
      "  Downloading pyasn1-0.4.8-py2.py3-none-any.whl (77 kB)\n",
      "\u001b[K     |████████████████████████████████| 77 kB 6.7 MB/s  eta 0:00:01\n",
      "\u001b[?25hRequirement already satisfied: idna>=2.0 in /home/mohamed_romdhan.GROUPEVSC/anaconda3/lib/python3.9/site-packages (from yarl<2.0,>=1.0->aiohttp<4->gcsfs) (3.2)\n",
      "Collecting requests-oauthlib>=0.7.0\n",
      "  Downloading requests_oauthlib-1.3.1-py2.py3-none-any.whl (23 kB)\n",
      "Collecting oauthlib>=3.0.0\n",
      "  Downloading oauthlib-3.2.0-py3-none-any.whl (151 kB)\n",
      "\u001b[K     |████████████████████████████████| 151 kB 59.6 MB/s eta 0:00:01\n",
      "\u001b[?25hRequirement already satisfied: urllib3<1.27,>=1.21.1 in /home/mohamed_romdhan.GROUPEVSC/anaconda3/lib/python3.9/site-packages (from requests->gcsfs) (1.26.7)\n",
      "Requirement already satisfied: certifi>=2017.4.17 in /home/mohamed_romdhan.GROUPEVSC/anaconda3/lib/python3.9/site-packages (from requests->gcsfs) (2021.10.8)\n",
      "Collecting google-cloud-core<3.0dev,>=1.6.0\n",
      "  Downloading google_cloud_core-2.2.3-py2.py3-none-any.whl (29 kB)\n",
      "Collecting google-resumable-media>=2.3.2\n",
      "  Downloading google_resumable_media-2.3.2-py2.py3-none-any.whl (76 kB)\n",
      "\u001b[K     |████████████████████████████████| 76 kB 7.4 MB/s  eta 0:00:01\n",
      "\u001b[?25hCollecting google-api-core!=2.0.*,!=2.1.*,!=2.2.*,!=2.3.0,<3.0.0dev,>=1.31.5\n",
      "  Downloading google_api_core-2.7.1-py3-none-any.whl (114 kB)\n",
      "\u001b[K     |████████████████████████████████| 114 kB 59.3 MB/s eta 0:00:01\n",
      "\u001b[?25hCollecting protobuf\n",
      "  Downloading protobuf-3.19.4-cp39-cp39-manylinux_2_17_x86_64.manylinux2014_x86_64.whl (1.1 MB)\n",
      "\u001b[K     |████████████████████████████████| 1.1 MB 43.4 MB/s eta 0:00:01\n",
      "\u001b[?25hCollecting googleapis-common-protos<2.0dev,>=1.52.0\n",
      "  Downloading googleapis_common_protos-1.56.0-py2.py3-none-any.whl (241 kB)\n",
      "\u001b[K     |████████████████████████████████| 241 kB 68.7 MB/s eta 0:00:01\n",
      "\u001b[?25hCollecting google-crc32c<2.0dev,>=1.0\n",
      "  Downloading google_crc32c-1.3.0-cp39-cp39-manylinux_2_12_x86_64.manylinux2010_x86_64.whl (36 kB)\n",
      "Installing collected packages: pyasn1, rsa, pyasn1-modules, protobuf, cachetools, googleapis-common-protos, google-auth, oauthlib, multidict, google-crc32c, google-api-core, frozenlist, yarl, requests-oauthlib, google-resumable-media, google-cloud-core, async-timeout, aiosignal, google-cloud-storage, google-auth-oauthlib, fsspec, aiohttp, gcsfs\n",
      "  Attempting uninstall: fsspec\n",
      "    Found existing installation: fsspec 2021.8.1\n",
      "    Uninstalling fsspec-2021.8.1:\n",
      "      Successfully uninstalled fsspec-2021.8.1\n",
      "Successfully installed aiohttp-3.8.1 aiosignal-1.2.0 async-timeout-4.0.2 cachetools-5.0.0 frozenlist-1.3.0 fsspec-2022.2.0 gcsfs-2022.2.0 google-api-core-2.7.1 google-auth-2.6.2 google-auth-oauthlib-0.5.1 google-cloud-core-2.2.3 google-cloud-storage-2.2.1 google-crc32c-1.3.0 google-resumable-media-2.3.2 googleapis-common-protos-1.56.0 multidict-6.0.2 oauthlib-3.2.0 protobuf-3.19.4 pyasn1-0.4.8 pyasn1-modules-0.2.8 requests-oauthlib-1.3.1 rsa-4.8 yarl-1.7.2\n",
      "Note: you may need to restart the kernel to use updated packages.\n"
     ]
    }
   ],
   "source": [
    "pip install gcsfs"
   ]
  },
  {
   "cell_type": "code",
   "execution_count": 14,
   "id": "43e42c10",
   "metadata": {},
   "outputs": [
    {
     "name": "stdout",
     "output_type": "stream",
     "text": [
      "Collecting fastparquet\n",
      "  Downloading fastparquet-0.8.0-cp39-cp39-manylinux2010_x86_64.whl (1.5 MB)\n",
      "\u001b[K     |████████████████████████████████| 1.5 MB 11.2 MB/s eta 0:00:01\n",
      "\u001b[?25hCollecting python-snappy\n",
      "  Downloading python_snappy-0.6.1-cp39-cp39-manylinux_2_12_x86_64.manylinux2010_x86_64.whl (55 kB)\n",
      "\u001b[K     |████████████████████████████████| 55 kB 4.3 MB/s  eta 0:00:01\n",
      "\u001b[?25hRequirement already satisfied: fsspec in /home/mohamed_romdhan.GROUPEVSC/anaconda3/lib/python3.9/site-packages (from fastparquet) (2022.2.0)\n",
      "Collecting cramjam>=2.3.0\n",
      "  Downloading cramjam-2.5.0-cp39-cp39-manylinux_2_5_x86_64.manylinux1_x86_64.whl (1.6 MB)\n",
      "\u001b[K     |████████████████████████████████| 1.6 MB 40.6 MB/s eta 0:00:01\n",
      "\u001b[?25hRequirement already satisfied: pandas>=1.1.0 in /home/mohamed_romdhan.GROUPEVSC/anaconda3/lib/python3.9/site-packages (from fastparquet) (1.3.4)\n",
      "Requirement already satisfied: numpy>=1.18 in /home/mohamed_romdhan.GROUPEVSC/anaconda3/lib/python3.9/site-packages (from fastparquet) (1.20.3)\n",
      "Requirement already satisfied: python-dateutil>=2.7.3 in /home/mohamed_romdhan.GROUPEVSC/anaconda3/lib/python3.9/site-packages (from pandas>=1.1.0->fastparquet) (2.8.2)\n",
      "Requirement already satisfied: pytz>=2017.3 in /home/mohamed_romdhan.GROUPEVSC/anaconda3/lib/python3.9/site-packages (from pandas>=1.1.0->fastparquet) (2021.3)\n",
      "Requirement already satisfied: six>=1.5 in /home/mohamed_romdhan.GROUPEVSC/anaconda3/lib/python3.9/site-packages (from python-dateutil>=2.7.3->pandas>=1.1.0->fastparquet) (1.16.0)\n",
      "Installing collected packages: cramjam, python-snappy, fastparquet\n",
      "Successfully installed cramjam-2.5.0 fastparquet-0.8.0 python-snappy-0.6.1\n",
      "Note: you may need to restart the kernel to use updated packages.\n"
     ]
    }
   ],
   "source": [
    "pip install fastparquet python-snappy"
   ]
  },
  {
   "cell_type": "code",
   "execution_count": 21,
   "id": "2b6af291",
   "metadata": {},
   "outputs": [
    {
     "name": "stdout",
     "output_type": "stream",
     "text": [
      "<pyarrow._parquet.ParquetSchema object at 0x7f5fde8dfb40>\n",
      "required group field_id=0 schema {\n",
      "  optional binary field_id=1 Genero_Usuario (String);\n",
      "  optional int64 field_id=2 Edad_Usuario;\n",
      "  optional binary field_id=3 Bici (String);\n",
      "  optional int64 field_id=4 Ciclo_Estacion_Retiro;\n",
      "  optional binary field_id=5 Fecha_Retiro (String);\n",
      "  optional binary field_id=6 Hora_Retiro (String);\n",
      "  optional binary field_id=7 Ciclo_Estacion_Arribo (String);\n",
      "  optional binary field_id=8 Fecha_Arribo (String);\n",
      "  optional binary field_id=9 Hora_Arribo (String);\n",
      "  optional binary field_id=10  (String);\n",
      "}\n",
      "\n"
     ]
    }
   ],
   "source": [
    "fs = gcsfs.GCSFileSystem(project='dtc-de-project-344521')\n",
    "myfilepath = \"gs://dtc_data_lake_dtc-de-project-344521/raw/2019-03.parquet\"\n",
    "f = fs.open(myfilepath)\n",
    "myschema = pq.ParquetFile(f).schema\n",
    "\n",
    "print(myschema)"
   ]
  },
  {
   "cell_type": "code",
   "execution_count": 16,
   "id": "af458b5f",
   "metadata": {},
   "outputs": [
    {
     "ename": "ValueError",
     "evalue": "Schema in gs://dtc_data_lake_dtc-de-project-344521/raw/2019-03.parquet was different. \nGenero_Usuario: string\n  -- field metadata --\n  PARQUET:field_id: '1'\nEdad_Usuario: int64\n  -- field metadata --\n  PARQUET:field_id: '2'\nBici: string\n  -- field metadata --\n  PARQUET:field_id: '3'\nCiclo_Estacion_Retiro: int64\n  -- field metadata --\n  PARQUET:field_id: '4'\nFecha_Retiro: string\n  -- field metadata --\n  PARQUET:field_id: '5'\nHora_Retiro: string\n  -- field metadata --\n  PARQUET:field_id: '6'\nCiclo_Estacion_Arribo: string\n  -- field metadata --\n  PARQUET:field_id: '7'\nFecha_Arribo: string\n  -- field metadata --\n  PARQUET:field_id: '8'\nHora_Arribo: string\n  -- field metadata --\n  PARQUET:field_id: '9'\n: string\n  -- field metadata --\n  PARQUET:field_id: '10'\n\nvs\n\nGenero_Usuario: string\n  -- field metadata --\n  PARQUET:field_id: '1'\nEdad_Usuario: int64\n  -- field metadata --\n  PARQUET:field_id: '2'\nBici: string\n  -- field metadata --\n  PARQUET:field_id: '3'\nCiclo_Estacion_Retiro: int64\n  -- field metadata --\n  PARQUET:field_id: '4'\nFecha_Retiro: string\n  -- field metadata --\n  PARQUET:field_id: '5'\nHora_Retiro: string\n  -- field metadata --\n  PARQUET:field_id: '6'\nCiclo_Estacion_Arribo: int64\n  -- field metadata --\n  PARQUET:field_id: '7'\nFecha_Arribo: string\n  -- field metadata --\n  PARQUET:field_id: '8'\nHora_Arribo: string\n  -- field metadata --\n  PARQUET:field_id: '9'",
     "output_type": "error",
     "traceback": [
      "\u001b[0;31m---------------------------------------------------------------------------\u001b[0m",
      "\u001b[0;31mValueError\u001b[0m                                Traceback (most recent call last)",
      "\u001b[0;32m/tmp/ipykernel_966612/3697591736.py\u001b[0m in \u001b[0;36m<module>\u001b[0;34m\u001b[0m\n\u001b[1;32m      3\u001b[0m \u001b[0;34m\u001b[0m\u001b[0m\n\u001b[1;32m      4\u001b[0m \u001b[0mfiles\u001b[0m \u001b[0;34m=\u001b[0m \u001b[0;34m[\u001b[0m\u001b[0;34m\"gs://\"\u001b[0m \u001b[0;34m+\u001b[0m \u001b[0mpath\u001b[0m \u001b[0;32mfor\u001b[0m \u001b[0mpath\u001b[0m \u001b[0;32min\u001b[0m \u001b[0mfs\u001b[0m\u001b[0;34m.\u001b[0m\u001b[0mglob\u001b[0m\u001b[0;34m(\u001b[0m\u001b[0murl\u001b[0m \u001b[0;34m+\u001b[0m \u001b[0;34m\"/*.parquet\"\u001b[0m\u001b[0;34m)\u001b[0m\u001b[0;34m]\u001b[0m\u001b[0;34m\u001b[0m\u001b[0;34m\u001b[0m\u001b[0m\n\u001b[0;32m----> 5\u001b[0;31m \u001b[0mds\u001b[0m \u001b[0;34m=\u001b[0m \u001b[0mpq\u001b[0m\u001b[0;34m.\u001b[0m\u001b[0mParquetDataset\u001b[0m\u001b[0;34m(\u001b[0m\u001b[0mfiles\u001b[0m\u001b[0;34m,\u001b[0m \u001b[0mfilesystem\u001b[0m\u001b[0;34m=\u001b[0m\u001b[0mfs\u001b[0m\u001b[0;34m)\u001b[0m\u001b[0;34m\u001b[0m\u001b[0;34m\u001b[0m\u001b[0m\n\u001b[0m\u001b[1;32m      6\u001b[0m \u001b[0;34m\u001b[0m\u001b[0m\n\u001b[1;32m      7\u001b[0m \u001b[0;34m\u001b[0m\u001b[0m\n",
      "\u001b[0;32m~/anaconda3/lib/python3.9/site-packages/pyarrow/parquet.py\u001b[0m in \u001b[0;36m__init__\u001b[0;34m(self, path_or_paths, filesystem, schema, metadata, split_row_groups, validate_schema, filters, metadata_nthreads, read_dictionary, memory_map, buffer_size, partitioning, use_legacy_dataset)\u001b[0m\n\u001b[1;32m   1300\u001b[0m \u001b[0;34m\u001b[0m\u001b[0m\n\u001b[1;32m   1301\u001b[0m         \u001b[0;32mif\u001b[0m \u001b[0mvalidate_schema\u001b[0m\u001b[0;34m:\u001b[0m\u001b[0;34m\u001b[0m\u001b[0;34m\u001b[0m\u001b[0m\n\u001b[0;32m-> 1302\u001b[0;31m             \u001b[0mself\u001b[0m\u001b[0;34m.\u001b[0m\u001b[0mvalidate_schemas\u001b[0m\u001b[0;34m(\u001b[0m\u001b[0;34m)\u001b[0m\u001b[0;34m\u001b[0m\u001b[0;34m\u001b[0m\u001b[0m\n\u001b[0m\u001b[1;32m   1303\u001b[0m \u001b[0;34m\u001b[0m\u001b[0m\n\u001b[1;32m   1304\u001b[0m     \u001b[0;32mdef\u001b[0m \u001b[0mequals\u001b[0m\u001b[0;34m(\u001b[0m\u001b[0mself\u001b[0m\u001b[0;34m,\u001b[0m \u001b[0mother\u001b[0m\u001b[0;34m)\u001b[0m\u001b[0;34m:\u001b[0m\u001b[0;34m\u001b[0m\u001b[0;34m\u001b[0m\u001b[0m\n",
      "\u001b[0;32m~/anaconda3/lib/python3.9/site-packages/pyarrow/parquet.py\u001b[0m in \u001b[0;36mvalidate_schemas\u001b[0;34m(self)\u001b[0m\n\u001b[1;32m   1346\u001b[0m             \u001b[0mfile_schema\u001b[0m \u001b[0;34m=\u001b[0m \u001b[0mfile_metadata\u001b[0m\u001b[0;34m.\u001b[0m\u001b[0mschema\u001b[0m\u001b[0;34m.\u001b[0m\u001b[0mto_arrow_schema\u001b[0m\u001b[0;34m(\u001b[0m\u001b[0;34m)\u001b[0m\u001b[0;34m\u001b[0m\u001b[0;34m\u001b[0m\u001b[0m\n\u001b[1;32m   1347\u001b[0m             \u001b[0;32mif\u001b[0m \u001b[0;32mnot\u001b[0m \u001b[0mdataset_schema\u001b[0m\u001b[0;34m.\u001b[0m\u001b[0mequals\u001b[0m\u001b[0;34m(\u001b[0m\u001b[0mfile_schema\u001b[0m\u001b[0;34m,\u001b[0m \u001b[0mcheck_metadata\u001b[0m\u001b[0;34m=\u001b[0m\u001b[0;32mFalse\u001b[0m\u001b[0;34m)\u001b[0m\u001b[0;34m:\u001b[0m\u001b[0;34m\u001b[0m\u001b[0;34m\u001b[0m\u001b[0m\n\u001b[0;32m-> 1348\u001b[0;31m                 raise ValueError('Schema in {!s} was different. \\n'\n\u001b[0m\u001b[1;32m   1349\u001b[0m                                  \u001b[0;34m'{!s}\\n\\nvs\\n\\n{!s}'\u001b[0m\u001b[0;34m\u001b[0m\u001b[0;34m\u001b[0m\u001b[0m\n\u001b[1;32m   1350\u001b[0m                                  .format(piece, file_schema,\n",
      "\u001b[0;31mValueError\u001b[0m: Schema in gs://dtc_data_lake_dtc-de-project-344521/raw/2019-03.parquet was different. \nGenero_Usuario: string\n  -- field metadata --\n  PARQUET:field_id: '1'\nEdad_Usuario: int64\n  -- field metadata --\n  PARQUET:field_id: '2'\nBici: string\n  -- field metadata --\n  PARQUET:field_id: '3'\nCiclo_Estacion_Retiro: int64\n  -- field metadata --\n  PARQUET:field_id: '4'\nFecha_Retiro: string\n  -- field metadata --\n  PARQUET:field_id: '5'\nHora_Retiro: string\n  -- field metadata --\n  PARQUET:field_id: '6'\nCiclo_Estacion_Arribo: string\n  -- field metadata --\n  PARQUET:field_id: '7'\nFecha_Arribo: string\n  -- field metadata --\n  PARQUET:field_id: '8'\nHora_Arribo: string\n  -- field metadata --\n  PARQUET:field_id: '9'\n: string\n  -- field metadata --\n  PARQUET:field_id: '10'\n\nvs\n\nGenero_Usuario: string\n  -- field metadata --\n  PARQUET:field_id: '1'\nEdad_Usuario: int64\n  -- field metadata --\n  PARQUET:field_id: '2'\nBici: string\n  -- field metadata --\n  PARQUET:field_id: '3'\nCiclo_Estacion_Retiro: int64\n  -- field metadata --\n  PARQUET:field_id: '4'\nFecha_Retiro: string\n  -- field metadata --\n  PARQUET:field_id: '5'\nHora_Retiro: string\n  -- field metadata --\n  PARQUET:field_id: '6'\nCiclo_Estacion_Arribo: int64\n  -- field metadata --\n  PARQUET:field_id: '7'\nFecha_Arribo: string\n  -- field metadata --\n  PARQUET:field_id: '8'\nHora_Arribo: string\n  -- field metadata --\n  PARQUET:field_id: '9'"
     ]
    }
   ],
   "source": [
    "url = \"gs://dtc_data_lake_dtc-de-project-344521/raw\"\n",
    "fs = gcsfs.GCSFileSystem()\n",
    "\n",
    "files = [\"gs://\" + path for path in fs.glob(url + \"/*.parquet\")]\n",
    "ds = pq.ParquetDataset(files, filesystem=fs)\n",
    "\n",
    "\n",
    "df = dd.read_parquet('*.parquet', engine='fastparquet')\n"
   ]
  },
  {
   "cell_type": "code",
   "execution_count": null,
   "id": "1d8b6c5a",
   "metadata": {},
   "outputs": [],
   "source": [
    "gs://dtc_data_lake_dtc-de-project-344521/raw\n",
    "    "
   ]
  }
 ],
 "metadata": {
  "kernelspec": {
   "display_name": "Python 3 (ipykernel)",
   "language": "python",
   "name": "python3"
  },
  "language_info": {
   "codemirror_mode": {
    "name": "ipython",
    "version": 3
   },
   "file_extension": ".py",
   "mimetype": "text/x-python",
   "name": "python",
   "nbconvert_exporter": "python",
   "pygments_lexer": "ipython3",
   "version": "3.9.7"
  }
 },
 "nbformat": 4,
 "nbformat_minor": 5
}
